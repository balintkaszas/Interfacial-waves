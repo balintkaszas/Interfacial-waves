{
 "cells": [
  {
   "cell_type": "code",
   "execution_count": 1,
   "metadata": {},
   "outputs": [
    {
     "name": "stderr",
     "output_type": "stream",
     "text": [
      "C:\\Users\\balin\\Anaconda3\\lib\\site-packages\\ipykernel\\parentpoller.py:116: UserWarning: Parent poll failed.  If the frontend dies,\n",
      "                the kernel may be left running.  Please let us know\n",
      "                about your system (bitness, Python, etc.) at\n",
      "                ipython-dev@scipy.org\n",
      "  ipython-dev@scipy.org\"\"\")\n"
     ]
    }
   ],
   "source": [
    "import numpy as np\n",
    "import matplotlib.pyplot as plt\n",
    "from matplotlib import cm\n",
    "from mpl_toolkits.mplot3d import Axes3D\n",
    "%matplotlib inline\n",
    "import matplotlib.patches as patches\n"
   ]
  },
  {
   "cell_type": "code",
   "execution_count": 2,
   "metadata": {},
   "outputs": [
    {
     "name": "stdout",
     "output_type": "stream",
     "text": [
      "[WinError 3] The system cannot find the path specified: 'OneDrive\\\\Documents\\\\hydro\\\\Updated_Exercises_March_2015\\\\Exercise 4'\n",
      "C:\\Users\\balin\\OneDrive\\Documents\\hydro\\Updated_Exercises_March_2015\\Exercise 4\n"
     ]
    }
   ],
   "source": [
    "%cd OneDrive\\Documents\\hydro\\Updated_Exercises_March_2015\\Exercise 4\n",
    "\n",
    "def tokenizer(fname):\n",
    "    with open(fname) as f:\n",
    "        chunk = []\n",
    "        for line in f:\n",
    "            if 'HEAD'in line:\n",
    "                continue\n",
    "            if 'END' in line:\n",
    "                yield chunk\n",
    "                chunk = []\n",
    "                continue\n",
    "            chunk.append(line)\n",
    "\n",
    "\n",
    "arrays = [np.loadtxt(A) for A in tokenizer('u.dat')]"
   ]
  },
  {
   "cell_type": "code",
   "execution_count": 2,
   "metadata": {},
   "outputs": [],
   "source": [
    "def readVariables():\n",
    "    u = np.loadtxt('u.dat')\n",
    "    w = np.loadtxt('w.dat')\n",
    "    rho  = np.loadtxt('rho.dat')\n",
    "    q = np.loadtxt('q.dat')\n",
    "    return {'u': u,'w': w, 'rho':  rho, 'q':q}"
   ]
  },
  {
   "cell_type": "code",
   "execution_count": 3,
   "metadata": {},
   "outputs": [],
   "source": [
    "def get_ith_iteration(i, variables, width = 101, length = 51):\n",
    "    d = {}\n",
    "    for key in variables.keys():\n",
    "        d[key] = variables[key][i*length : (i+1)*length , :]\n",
    "    return d\n"
   ]
  },
  {
   "cell_type": "code",
   "execution_count": 4,
   "metadata": {},
   "outputs": [],
   "source": [
    "dictionary = readVariables()"
   ]
  },
  {
   "cell_type": "code",
   "execution_count": 15,
   "metadata": {},
   "outputs": [],
   "source": [
    "null = get_ith_iteration(0, dictionary)"
   ]
  },
  {
   "cell_type": "code",
   "execution_count": 4,
   "metadata": {},
   "outputs": [],
   "source": [
    "def plotVariables(variables, save=None, every = 5, width = 101, length = 51):\n",
    "    plt.clf() \n",
    "    x = np.linspace(0, 2, width)\n",
    "    y = np.linspace(0, -1, length)\n",
    "    X, Y = np.meshgrid(x, y)\n",
    "    fig, (ax1, ax2) = plt.subplots(nrows=2, figsize=(11,9))\n",
    "\n",
    "\n",
    "    im = ax1.contourf(X, Y, variables['rho']+1028., alpha=0.5, cmap=cm.viridis)  \n",
    "    ax1.quiver(X[::every, ::every], Y[::every, ::every], variables['u'][::every, ::every], variables['w'][::every, ::every])\n",
    "    ax1.set_xlabel('X')\n",
    "    ax1.set_ylabel('Y')\n",
    "    fig.colorbar(im, ax=ax1)\n",
    "    ax1.set_title('Density, t = {:d} min'.format(i*5))\n",
    "    \n",
    "    im2 = ax2.contourf(X, Y, variables['q']*1028.*9.81, alpha=0.5, cmap=cm.viridis)  \n",
    "    ax2.quiver(X[::every, ::every], Y[::every, ::every], variables['u'][::every, ::every], variables['w'][::every, ::every])\n",
    "    ax2.set_xlabel('X')\n",
    "    ax2.set_ylabel('Y')\n",
    "    fig.colorbar(im2, ax=ax2)\n",
    "    ax2.set_title('Pressure anomaly')\n",
    "    fig.tight_layout()\n",
    "    if(save):\n",
    "        plt.savefig(save)\n",
    "    plt.close()\n",
    "    "
   ]
  },
  {
   "cell_type": "code",
   "execution_count": 25,
   "metadata": {},
   "outputs": [
    {
     "ename": "IndexError",
     "evalue": "too many indices for array",
     "output_type": "error",
     "traceback": [
      "\u001b[1;31m---------------------------------------------------------------------------\u001b[0m",
      "\u001b[1;31mIndexError\u001b[0m                                Traceback (most recent call last)",
      "\u001b[1;32m<ipython-input-25-01dfe7248981>\u001b[0m in \u001b[0;36m<module>\u001b[1;34m()\u001b[0m\n\u001b[0;32m      1\u001b[0m \u001b[1;32mfor\u001b[0m \u001b[0mi\u001b[0m \u001b[1;32min\u001b[0m \u001b[0mrange\u001b[0m\u001b[1;33m(\u001b[0m\u001b[1;36m100\u001b[0m\u001b[1;33m)\u001b[0m\u001b[1;33m:\u001b[0m\u001b[1;33m\u001b[0m\u001b[0m\n\u001b[0;32m      2\u001b[0m \u001b[1;33m\u001b[0m\u001b[0m\n\u001b[1;32m----> 3\u001b[1;33m     \u001b[0miteration\u001b[0m \u001b[1;33m=\u001b[0m \u001b[0mget_ith_iteration\u001b[0m\u001b[1;33m(\u001b[0m\u001b[0mi\u001b[0m\u001b[1;33m,\u001b[0m \u001b[0mdictionary\u001b[0m\u001b[1;33m)\u001b[0m\u001b[1;33m\u001b[0m\u001b[0m\n\u001b[0m\u001b[0;32m      4\u001b[0m     \u001b[0mplotVariables\u001b[0m\u001b[1;33m(\u001b[0m\u001b[0miteration\u001b[0m\u001b[1;33m,\u001b[0m \u001b[1;34m'imgs/'\u001b[0m\u001b[1;33m+\u001b[0m\u001b[1;34m'{0:03d}'\u001b[0m\u001b[1;33m.\u001b[0m\u001b[0mformat\u001b[0m\u001b[1;33m(\u001b[0m\u001b[0mi\u001b[0m\u001b[1;33m)\u001b[0m\u001b[1;33m+\u001b[0m\u001b[1;34m'.png'\u001b[0m\u001b[1;33m)\u001b[0m\u001b[1;33m\u001b[0m\u001b[0m\n",
      "\u001b[1;32m<ipython-input-20-22c1713d35cb>\u001b[0m in \u001b[0;36mget_ith_iteration\u001b[1;34m(i, variables, width, length)\u001b[0m\n\u001b[0;32m      2\u001b[0m     \u001b[0md\u001b[0m \u001b[1;33m=\u001b[0m \u001b[1;33m{\u001b[0m\u001b[1;33m}\u001b[0m\u001b[1;33m\u001b[0m\u001b[0m\n\u001b[0;32m      3\u001b[0m     \u001b[1;32mfor\u001b[0m \u001b[0mkey\u001b[0m \u001b[1;32min\u001b[0m \u001b[0mvariables\u001b[0m\u001b[1;33m.\u001b[0m\u001b[0mkeys\u001b[0m\u001b[1;33m(\u001b[0m\u001b[1;33m)\u001b[0m\u001b[1;33m:\u001b[0m\u001b[1;33m\u001b[0m\u001b[0m\n\u001b[1;32m----> 4\u001b[1;33m         \u001b[0md\u001b[0m\u001b[1;33m[\u001b[0m\u001b[0mkey\u001b[0m\u001b[1;33m]\u001b[0m \u001b[1;33m=\u001b[0m \u001b[0mvariables\u001b[0m\u001b[1;33m[\u001b[0m\u001b[0mkey\u001b[0m\u001b[1;33m]\u001b[0m\u001b[1;33m[\u001b[0m\u001b[0mi\u001b[0m\u001b[1;33m*\u001b[0m\u001b[0mlength\u001b[0m \u001b[1;33m:\u001b[0m \u001b[1;33m(\u001b[0m\u001b[0mi\u001b[0m\u001b[1;33m+\u001b[0m\u001b[1;36m1\u001b[0m\u001b[1;33m)\u001b[0m\u001b[1;33m*\u001b[0m\u001b[0mlength\u001b[0m \u001b[1;33m,\u001b[0m \u001b[1;33m:\u001b[0m\u001b[1;33m]\u001b[0m\u001b[1;33m\u001b[0m\u001b[0m\n\u001b[0m\u001b[0;32m      5\u001b[0m     \u001b[1;32mreturn\u001b[0m \u001b[0md\u001b[0m\u001b[1;33m\u001b[0m\u001b[0m\n",
      "\u001b[1;31mIndexError\u001b[0m: too many indices for array"
     ]
    }
   ],
   "source": [
    "for i in range(100):\n",
    "    \n",
    "    iteration = get_ith_iteration(i, dictionary)\n",
    "    plotVariables(iteration, 'imgs/'+'{0:03d}'.format(i)+'.png')\n",
    "\n"
   ]
  },
  {
   "cell_type": "code",
   "execution_count": 11,
   "metadata": {},
   "outputs": [],
   "source": [
    "dictionary = readVariables()\n"
   ]
  },
  {
   "cell_type": "code",
   "execution_count": 12,
   "metadata": {},
   "outputs": [
    {
     "data": {
      "text/plain": [
       "<Figure size 432x288 with 0 Axes>"
      ]
     },
     "metadata": {},
     "output_type": "display_data"
    }
   ],
   "source": [
    "for i in range(100):\n",
    "    \n",
    "    iteration = get_ith_iteration(i, dictionary)\n",
    "    plotVariables(iteration, 'pics/'+'{0:03d}'.format(i)+'.png')\n"
   ]
  },
  {
   "cell_type": "code",
   "execution_count": 76,
   "metadata": {},
   "outputs": [],
   "source": [
    "x = np.linspace(0, 2, 101)\n",
    "y = np.linspace(0, -1, 51)\n",
    "X, Y = np.meshgrid(x, y)\n",
    "u = np.loadtxt('w.dat')"
   ]
  },
  {
   "cell_type": "code",
   "execution_count": 39,
   "metadata": {},
   "outputs": [
    {
     "data": {
      "text/plain": [
       "[<matplotlib.lines.Line2D at 0x1caa2b4a358>]"
      ]
     },
     "execution_count": 39,
     "metadata": {},
     "output_type": "execute_result"
    },
    {
     "data": {
      "image/png": "[encoded data removed]",
      "text/plain": [
       "<Figure size 432x288 with 1 Axes>"
      ]
     },
     "metadata": {
      "needs_background": "light"
     },
     "output_type": "display_data"
    }
   ],
   "source": [
    "plt.plot(-h)"
   ]
  },
  {
   "cell_type": "code",
   "execution_count": null,
   "metadata": {},
   "outputs": [],
   "source": []
  }
 ],
 "metadata": {
  "kernelspec": {
   "display_name": "Python 3",
   "language": "python",
   "name": "python3"
  },
  "language_info": {
   "codemirror_mode": {
    "name": "ipython",
    "version": 3
   },
   "file_extension": ".py",
   "mimetype": "text/x-python",
   "name": "python",
   "nbconvert_exporter": "python",
   "pygments_lexer": "ipython3",
   "version": "3.7.0"
  }
 },
 "nbformat": 4,
 "nbformat_minor": 2
}
